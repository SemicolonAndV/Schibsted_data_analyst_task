{
 "cells": [
  {
   "cell_type": "markdown",
   "id": "ec566789",
   "metadata": {},
   "source": [
    "## PySpark data analysis"
   ]
  },
  {
   "cell_type": "markdown",
   "id": "3c550e37",
   "metadata": {},
   "source": [
    "The goal is to explore the data from file `inventory.parquet` and perform various operations on them to get the expected information. All actions are performed on Spark Dataframe and the structure of the original data remains the same throughout whole processing."
   ]
  },
  {
   "cell_type": "code",
   "execution_count": 1,
   "id": "6d801fa2",
   "metadata": {},
   "outputs": [],
   "source": [
    "from pyspark.sql import SparkSession\n",
    "import pyspark.sql.functions as F"
   ]
  },
  {
   "cell_type": "code",
   "execution_count": 3,
   "id": "6a54740a",
   "metadata": {},
   "outputs": [
    {
     "name": "stdout",
     "output_type": "stream",
     "text": [
      "+--------+------------+------------+-----+-------------+--------------------+--------+----------+\n",
      "| user_id|is_logged_in| device_type|event|is_mobile_app|                site|order_id|      date|\n",
      "+--------+------------+------------+-----+-------------+--------------------+--------+----------+\n",
      "|51217510|       false|Mobile Phone|click|        false|        dailynews.no|     976|2023-09-07|\n",
      "|51217510|       false|Mobile Phone| view|        false|play.google.com/s...|     976|2023-09-04|\n",
      "|51217510|       false|     Desktop| view|        false|apps.apple.com/no...|     877|2023-09-02|\n",
      "|51217510|       false|     Desktop| view|        false|play.google.com/s...|    1075|2023-09-02|\n",
      "|51217510|       false|Mobile Phone| view|        false|apps.apple.com/no...|     976|2023-09-05|\n",
      "+--------+------------+------------+-----+-------------+--------------------+--------+----------+\n",
      "only showing top 5 rows\n",
      "\n",
      "+--------+\n",
      "| user_id|\n",
      "+--------+\n",
      "|93330430|\n",
      "|30514363|\n",
      "|43260855|\n",
      "|72293645|\n",
      "|60562662|\n",
      "+--------+\n",
      "only showing top 5 rows\n",
      "\n"
     ]
    }
   ],
   "source": [
    "spark = SparkSession.builder.appName(\"Dataframe\").getOrCreate()\n",
    "\n",
    "inventory = spark.read.parquet(\"../inventory.parquet\")\n",
    "users = spark.read.parquet(\"../selected_users.parquet\")\n",
    "\n",
    "inventory.show(5)\n",
    "users.show(5)"
   ]
  },
  {
   "cell_type": "code",
   "execution_count": 7,
   "id": "43c055e8",
   "metadata": {},
   "outputs": [
    {
     "name": "stdout",
     "output_type": "stream",
     "text": [
      "Number of unique users: 2470\n",
      "Users logged in % for every day\n",
      "+----------+-----------+\n",
      "|      date|% logged in|\n",
      "+----------+-----------+\n",
      "|2023-09-03|      70.73|\n",
      "|2023-09-01|      71.09|\n",
      "|2023-09-07|      70.81|\n",
      "|2023-09-02|      68.74|\n",
      "|2023-09-04|      70.12|\n",
      "|2023-09-06|       71.3|\n",
      "+----------+-----------+\n",
      "\n"
     ]
    }
   ],
   "source": [
    "# Task number 1 - Find what is the percentage of logged in users every day\n",
    "unique_users_count = inventory.select([\"user_id\", \"is_logged_in\"]).distinct().filter(inventory.is_logged_in == \"true\").count()\n",
    "print(f'Number of unique users: {unique_users_count}')\n",
    "print(\"Users logged in % for every day\")\n",
    "inventory.select([\"user_id\", \"date\", \"is_logged_in\"]).distinct().filter(inventory.is_logged_in == \"true\").groupBy(\"date\").agg(F.round(F.count(\"user_id\")/unique_users_count*100, 2).alias(\"% logged in\")).show()"
   ]
  },
  {
   "cell_type": "markdown",
   "id": "183db0cb",
   "metadata": {},
   "source": [
    "Percentage of logged in users every day looks very similar in this period."
   ]
  },
  {
   "cell_type": "code",
   "execution_count": 5,
   "id": "52b037f2",
   "metadata": {},
   "outputs": [
    {
     "name": "stdout",
     "output_type": "stream",
     "text": [
      "+-----------------------------------------------------------------+-----+\n",
      "|site                                                             |count|\n",
      "+-----------------------------------------------------------------+-----+\n",
      "|play.google.com/store/apps/details?id=com.agens.android.dailynews|1765 |\n",
      "|sportinfo.no                                                     |1755 |\n",
      "|play.google.com/store/apps/details?id=com.agens.android.sportinfo|1703 |\n",
      "|apps.apple.com/no/app/sportingo/id87564849                       |1728 |\n",
      "|dailynews.no                                                     |1775 |\n",
      "|apps.apple.com/no/app/dailynews/id5637563                        |1740 |\n",
      "+-----------------------------------------------------------------+-----+\n",
      "\n"
     ]
    }
   ],
   "source": [
    "# Task number 2 - Which site has the most logged in users?\n",
    "inventory.select([\"user_id\", \"site\", \"is_logged_in\"]).distinct().filter(inventory.is_logged_in == \"true\").groupBy(\"site\").count().show(truncate=False)"
   ]
  },
  {
   "cell_type": "markdown",
   "id": "b3390459",
   "metadata": {},
   "source": [
    "Users have logged most often via `dailynews.no` website, altough differences between sites are very small."
   ]
  },
  {
   "cell_type": "code",
   "execution_count": 8,
   "id": "4311b87e",
   "metadata": {},
   "outputs": [
    {
     "data": {
      "text/plain": [
       "0.9331983805668016"
      ]
     },
     "execution_count": 8,
     "metadata": {},
     "output_type": "execute_result"
    }
   ],
   "source": [
    "# Task number 3 - Calculate the share of logged in users who are using Mobile App\n",
    "mobile_users = inventory.select([\"user_id\", \"device_type\", \"is_logged_in\"]).filter((inventory.device_type == \"Mobile Phone\") & (inventory.is_logged_in == \"true\")).distinct().count()\n",
    "\n",
    "mobile_share = mobile_users / unique_users_count\n",
    "mobile_share"
   ]
  },
  {
   "cell_type": "markdown",
   "id": "ac08d9cb",
   "metadata": {},
   "source": [
    "About 93.3% of logged in users use mobile app. This value was found by getting the number of unique users who use mobile phone and then divide it by number of unique users."
   ]
  },
  {
   "cell_type": "code",
   "execution_count": 7,
   "id": "aa7145fe",
   "metadata": {},
   "outputs": [],
   "source": [
    "# # Task number 4 - Create a new column called identity_type which will take the following value:\n",
    "# ○ If device_type is “Mobile Phone” and is_mobile_app is set to True then “Mobile Phone App”\n",
    "# ○ If device_type is “Mobile Phone” and is_mobile_app is set to False then “Mobile Phone Web”\n",
    "# ○ If device_type is “Desktop” then “Desktop”\n",
    "# ○ Otherwise “Unknown”\n",
    "inv_identity = inventory.withColumn(\"identity_type\",\n",
    "    F.when((inventory.device_type == \"Desktop\"), F.lit(\"Desktop\")).\n",
    "    when(((inventory.device_type == \"Mobile Phone\") & (~inventory.is_mobile_app)),\n",
    "       F.lit(\"Mobile Phone Web\")).\n",
    "    when(((inventory.device_type == \"Mobile Phone\") & (inventory.is_mobile_app)),\n",
    "       F.lit(\"Mobile Phone App\")).\n",
    "    otherwise(F.lit(\"Unknown\")))\n",
    "# F.when is used only at the first time as the rest of whens is chained to this method"
   ]
  },
  {
   "cell_type": "code",
   "execution_count": 8,
   "id": "d249de10",
   "metadata": {
    "scrolled": true
   },
   "outputs": [
    {
     "name": "stdout",
     "output_type": "stream",
     "text": [
      "+--------+------------+------------+-----+-------------+--------------------+--------+----------+----------------+\n",
      "| user_id|is_logged_in| device_type|event|is_mobile_app|                site|order_id|      date|   identity_type|\n",
      "+--------+------------+------------+-----+-------------+--------------------+--------+----------+----------------+\n",
      "|51217510|       false|Mobile Phone|click|        false|        dailynews.no|     976|2023-09-07|Mobile Phone Web|\n",
      "|51217510|       false|Mobile Phone| view|        false|play.google.com/s...|     976|2023-09-04|Mobile Phone Web|\n",
      "|51217510|       false|     Desktop| view|        false|apps.apple.com/no...|     877|2023-09-02|         Desktop|\n",
      "|51217510|       false|     Desktop| view|        false|play.google.com/s...|    1075|2023-09-02|         Desktop|\n",
      "|51217510|       false|Mobile Phone| view|        false|apps.apple.com/no...|     976|2023-09-05|Mobile Phone Web|\n",
      "|51217510|       false|Mobile Phone|click|         true|apps.apple.com/no...|     995|2023-09-02|Mobile Phone App|\n",
      "|51217510|       false|     Desktop|click|        false|play.google.com/s...|     368|2023-09-03|         Desktop|\n",
      "|51217510|       false|Mobile Phone|click|        false|apps.apple.com/no...|     976|2023-09-01|Mobile Phone Web|\n",
      "|51217510|       false|     Desktop|click|        false|        dailynews.no|    7998|2023-09-01|         Desktop|\n",
      "|51217510|       false|     Desktop| view|        false|        dailynews.no|    8530|2023-09-07|         Desktop|\n",
      "|51217510|       false|Mobile Phone|click|         true|        dailynews.no|     995|2023-09-05|Mobile Phone App|\n",
      "|51217510|       false|Mobile Phone| view|        false|        sportinfo.no|     976|2023-09-04|Mobile Phone Web|\n",
      "|45810793|       false|     Desktop|click|        false|apps.apple.com/no...|    2716|2023-09-01|         Desktop|\n",
      "|45810793|       false|Mobile Phone|click|        false|play.google.com/s...|     976|2023-09-03|Mobile Phone Web|\n",
      "|45810793|       false|     Desktop|click|        false|apps.apple.com/no...|    8827|2023-09-07|         Desktop|\n",
      "|39126125|        true|Mobile Phone| view|        false|play.google.com/s...|     976|2023-09-04|Mobile Phone Web|\n",
      "|39126125|        true|     Desktop| view|        false|        sportinfo.no|    4536|2023-09-03|         Desktop|\n",
      "|39126125|        true|Mobile Phone| view|        false|apps.apple.com/no...|     976|2023-09-06|Mobile Phone Web|\n",
      "|39126125|        true|Mobile Phone| view|        false|play.google.com/s...|     334|2023-09-03|Mobile Phone Web|\n",
      "|39126125|        true|     Desktop|click|        false|apps.apple.com/no...|    1610|2023-09-01|         Desktop|\n",
      "+--------+------------+------------+-----+-------------+--------------------+--------+----------+----------------+\n",
      "only showing top 20 rows\n",
      "\n"
     ]
    }
   ],
   "source": [
    "inv_identity.show()"
   ]
  },
  {
   "cell_type": "code",
   "execution_count": 9,
   "id": "fedd217e",
   "metadata": {},
   "outputs": [
    {
     "name": "stdout",
     "output_type": "stream",
     "text": [
      "+--------+------------+------------+-----+-------------+--------------------+--------+----------+\n",
      "| user_id|is_logged_in| device_type|event|is_mobile_app|                site|order_id|      date|\n",
      "+--------+------------+------------+-----+-------------+--------------------+--------+----------+\n",
      "|51217510|       false|Mobile Phone|click|        false|        dailynews.no|     976|2023-09-07|\n",
      "|51217510|       false|Mobile Phone| view|        false|play.google.com/s...|     976|2023-09-04|\n",
      "|51217510|       false|     Desktop| view|        false|apps.apple.com/no...|     877|2023-09-02|\n",
      "|51217510|       false|     Desktop| view|        false|play.google.com/s...|    1075|2023-09-02|\n",
      "|51217510|       false|Mobile Phone| view|        false|apps.apple.com/no...|     976|2023-09-05|\n",
      "|51217510|       false|Mobile Phone|click|         true|apps.apple.com/no...|     995|2023-09-02|\n",
      "|51217510|       false|     Desktop|click|        false|play.google.com/s...|     368|2023-09-03|\n",
      "|51217510|       false|Mobile Phone|click|        false|apps.apple.com/no...|     976|2023-09-01|\n",
      "|51217510|       false|     Desktop|click|        false|        dailynews.no|    7998|2023-09-01|\n",
      "|51217510|       false|     Desktop| view|        false|        dailynews.no|    8530|2023-09-07|\n",
      "|51217510|       false|Mobile Phone|click|         true|        dailynews.no|     995|2023-09-05|\n",
      "|51217510|       false|Mobile Phone| view|        false|        sportinfo.no|     976|2023-09-04|\n",
      "|45810793|       false|     Desktop|click|        false|apps.apple.com/no...|    2716|2023-09-01|\n",
      "|45810793|       false|Mobile Phone|click|        false|play.google.com/s...|     976|2023-09-03|\n",
      "|45810793|       false|     Desktop|click|        false|apps.apple.com/no...|    8827|2023-09-07|\n",
      "|39126125|        true|Mobile Phone| view|        false|play.google.com/s...|     976|2023-09-04|\n",
      "|39126125|        true|     Desktop| view|        false|        sportinfo.no|    4536|2023-09-03|\n",
      "|39126125|        true|Mobile Phone| view|        false|apps.apple.com/no...|     976|2023-09-06|\n",
      "|39126125|        true|Mobile Phone| view|        false|play.google.com/s...|     334|2023-09-03|\n",
      "|39126125|        true|     Desktop|click|        false|apps.apple.com/no...|    1610|2023-09-01|\n",
      "+--------+------------+------------+-----+-------------+--------------------+--------+----------+\n",
      "only showing top 20 rows\n",
      "\n"
     ]
    }
   ],
   "source": [
    "inventory.show()"
   ]
  },
  {
   "cell_type": "markdown",
   "id": "9de96f2b",
   "metadata": {},
   "source": [
    "As seen above, identity types in the new column are properly assigned and the original dataframe `inventory` is unchanged."
   ]
  },
  {
   "cell_type": "code",
   "execution_count": 10,
   "id": "ee71735a",
   "metadata": {},
   "outputs": [
    {
     "name": "stdout",
     "output_type": "stream",
     "text": [
      "+----------------+--------+\n",
      "|   identity_type|order_id|\n",
      "+----------------+--------+\n",
      "|Mobile Phone Web|     976|\n",
      "|Mobile Phone App|     995|\n",
      "|         Desktop|   10000|\n",
      "+----------------+--------+\n",
      "\n",
      "map_max={'Desktop': 10000, 'Mobile Phone App': 995, 'Mobile Phone Web': 976}\n",
      "+--------+------------+------------+-----+-------------+--------------------+--------+----------+----------------+------------+\n",
      "| user_id|is_logged_in| device_type|event|is_mobile_app|                site|order_id|      date|   identity_type|max_order_id|\n",
      "+--------+------------+------------+-----+-------------+--------------------+--------+----------+----------------+------------+\n",
      "|51217510|       false|Mobile Phone|click|        false|        dailynews.no|     976|2023-09-07|Mobile Phone Web|         976|\n",
      "|51217510|       false|Mobile Phone| view|        false|play.google.com/s...|     976|2023-09-04|Mobile Phone Web|         976|\n",
      "|51217510|       false|     Desktop| view|        false|apps.apple.com/no...|     877|2023-09-02|         Desktop|       10000|\n",
      "|51217510|       false|     Desktop| view|        false|play.google.com/s...|    1075|2023-09-02|         Desktop|       10000|\n",
      "|51217510|       false|Mobile Phone| view|        false|apps.apple.com/no...|     976|2023-09-05|Mobile Phone Web|         976|\n",
      "|51217510|       false|Mobile Phone|click|         true|apps.apple.com/no...|     995|2023-09-02|Mobile Phone App|         995|\n",
      "|51217510|       false|     Desktop|click|        false|play.google.com/s...|     368|2023-09-03|         Desktop|       10000|\n",
      "|51217510|       false|Mobile Phone|click|        false|apps.apple.com/no...|     976|2023-09-01|Mobile Phone Web|         976|\n",
      "|51217510|       false|     Desktop|click|        false|        dailynews.no|    7998|2023-09-01|         Desktop|       10000|\n",
      "|51217510|       false|     Desktop| view|        false|        dailynews.no|    8530|2023-09-07|         Desktop|       10000|\n",
      "|51217510|       false|Mobile Phone|click|         true|        dailynews.no|     995|2023-09-05|Mobile Phone App|         995|\n",
      "|51217510|       false|Mobile Phone| view|        false|        sportinfo.no|     976|2023-09-04|Mobile Phone Web|         976|\n",
      "|45810793|       false|     Desktop|click|        false|apps.apple.com/no...|    2716|2023-09-01|         Desktop|       10000|\n",
      "|45810793|       false|Mobile Phone|click|        false|play.google.com/s...|     976|2023-09-03|Mobile Phone Web|         976|\n",
      "|45810793|       false|     Desktop|click|        false|apps.apple.com/no...|    8827|2023-09-07|         Desktop|       10000|\n",
      "|39126125|        true|Mobile Phone| view|        false|play.google.com/s...|     976|2023-09-04|Mobile Phone Web|         976|\n",
      "|39126125|        true|     Desktop| view|        false|        sportinfo.no|    4536|2023-09-03|         Desktop|       10000|\n",
      "|39126125|        true|Mobile Phone| view|        false|apps.apple.com/no...|     976|2023-09-06|Mobile Phone Web|         976|\n",
      "|39126125|        true|Mobile Phone| view|        false|play.google.com/s...|     334|2023-09-03|Mobile Phone Web|         976|\n",
      "|39126125|        true|     Desktop|click|        false|apps.apple.com/no...|    1610|2023-09-01|         Desktop|       10000|\n",
      "+--------+------------+------------+-----+-------------+--------------------+--------+----------+----------------+------------+\n",
      "only showing top 20 rows\n",
      "\n"
     ]
    }
   ],
   "source": [
    "# Task number 5 - Create a new column in the dataset called max_order_id which will show the\n",
    "# maximum order_id for each identity_type. The DataFrame must persist the original\n",
    "# number of records.\n",
    "# helper dataframe to get maximum order_id per identity type\n",
    "maxord = inv_identity.groupBy(\"identity_type\").agg(F.max(\"order_id\").alias(\"order_id\"))\n",
    "maxord.show()\n",
    "# helper dict for the following query\n",
    "map_max = {dev: maxord.where(maxord.identity_type == dev).select(\"order_id\").first()[0] for dev in [\"Desktop\", \"Mobile Phone App\", \"Mobile Phone Web\"]}     \n",
    "print(f\"{map_max=}\")\n",
    "inv_max_order = inv_identity.withColumn(\"max_order_id\",\n",
    "    F.when((inv_identity.identity_type == \"Desktop\"), \n",
    "       F.lit(map_max[\"Desktop\"])).\n",
    "    when((inv_identity.identity_type == \"Mobile Phone App\"),\n",
    "       F.lit(map_max[\"Mobile Phone App\"])).\n",
    "    when((inv_identity.identity_type == \"Mobile Phone Web\"),\n",
    "       F.lit(map_max[\"Mobile Phone Web\"])))\n",
    "inv_max_order.show()\n",
    "\n"
   ]
  },
  {
   "cell_type": "code",
   "execution_count": 11,
   "id": "c0172918",
   "metadata": {},
   "outputs": [
    {
     "name": "stdout",
     "output_type": "stream",
     "text": [
      "46733\n",
      "46733\n"
     ]
    }
   ],
   "source": [
    "print(inventory.count())\n",
    "print(inv_max_order.count())"
   ]
  },
  {
   "cell_type": "markdown",
   "id": "c03f4435",
   "metadata": {},
   "source": [
    "For this task, new column `max_order_id` stores the maximum order id for a given identity type. For better readability, a helper dataframe `maxord` and helper dict `map_max` have been created.  \n",
    "As seen in the cell above, number of records in dataframe `inv_max_order` is the same as the original dataframe."
   ]
  },
  {
   "cell_type": "markdown",
   "id": "ee2fbb18",
   "metadata": {},
   "source": [
    "Task 6 and Task 7 are similar to each other, therefore the got placed in the same cell."
   ]
  },
  {
   "cell_type": "code",
   "execution_count": 14,
   "id": "67b2b11c",
   "metadata": {},
   "outputs": [
    {
     "name": "stdout",
     "output_type": "stream",
     "text": [
      "Total clicks during this period of time\n",
      "+----------+-----+\n",
      "|      date|count|\n",
      "+----------+-----+\n",
      "|2023-09-03| 3581|\n",
      "|2023-09-01| 3561|\n",
      "|2023-09-05| 1810|\n",
      "|2023-09-07| 3662|\n",
      "|2023-09-02| 3605|\n",
      "|2023-09-04| 3623|\n",
      "|2023-09-06| 3510|\n",
      "+----------+-----+\n",
      "\n",
      "Clicks of users taking part in the campaign\n",
      "+----------+-----+\n",
      "|      date|count|\n",
      "+----------+-----+\n",
      "|2023-09-03| 1082|\n",
      "|2023-09-01| 1142|\n",
      "|2023-09-05|  604|\n",
      "|2023-09-07| 1134|\n",
      "|2023-09-02| 1171|\n",
      "|2023-09-04| 1101|\n",
      "|2023-09-06| 1085|\n",
      "+----------+-----+\n",
      "\n",
      "Clicks of users not taking part in the campaign\n",
      "+----------+-----+\n",
      "|      date|count|\n",
      "+----------+-----+\n",
      "|2023-09-03| 2499|\n",
      "|2023-09-01| 2419|\n",
      "|2023-09-05| 1206|\n",
      "|2023-09-07| 2528|\n",
      "|2023-09-02| 2434|\n",
      "|2023-09-04| 2522|\n",
      "|2023-09-06| 2425|\n",
      "+----------+-----+\n",
      "\n"
     ]
    }
   ],
   "source": [
    "# Task number 6 - You have been notified by the Marketing team that they would like to know what was\n",
    "# the number of clicks (event column equals to “click”) each day for a given campaign.\n",
    "# They sent you the list of users taking part in this campaign\n",
    "# (selected_users.parquet). Your goal is to filter the dataset to include only selected\n",
    "# users and calculate the total number of clicks per day.\n",
    "\n",
    "# Task number 7 - What was the number of clicks per day for users who weren’t in this campaign?\n",
    "\n",
    "# helper for getting information from the users dataframe which user participates in this campaign\n",
    "campaign_result = inventory.join(users.withColumn(\"check\", lit(True)), \"user_id\", \"left\").fillna(False)\n",
    "print(\"Total clicks during this period of time\")\n",
    "campaign_result.select([\"event\", \"date\"]).where(inventory.event == \"click\").groupBy(\"date\").count().show()\n",
    "# number 6\n",
    "print(\"Clicks of users taking part in the campaign\")\n",
    "campaign_result.filter(campaign_result.check == \"True\").select([\"event\", \"date\"]).where(inventory.event == \"click\").groupBy(\"date\").count().show()\n",
    "\n",
    "# number 7\n",
    "print(\"Clicks of users not taking part in the campaign\")\n",
    "campaign_result.filter(campaign_result.check == \"False\").select([\"event\", \"date\"]).where(inventory.event == \"click\").groupBy(\"date\").count().show()\n"
   ]
  },
  {
   "cell_type": "markdown",
   "id": "2f7217e1",
   "metadata": {},
   "source": [
    "After adding the numbers of users participating and not participating for each day, the sum for each day matches total number of clicks per day."
   ]
  }
 ],
 "metadata": {
  "kernelspec": {
   "display_name": "Python 3 (ipykernel)",
   "language": "python",
   "name": "python3"
  },
  "language_info": {
   "codemirror_mode": {
    "name": "ipython",
    "version": 3
   },
   "file_extension": ".py",
   "mimetype": "text/x-python",
   "name": "python",
   "nbconvert_exporter": "python",
   "pygments_lexer": "ipython3",
   "version": "3.10.9"
  }
 },
 "nbformat": 4,
 "nbformat_minor": 5
}
